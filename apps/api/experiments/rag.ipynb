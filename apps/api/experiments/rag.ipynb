{
 "cells": [
  {
   "cell_type": "code",
   "execution_count": 22,
   "metadata": {},
   "outputs": [
    {
     "name": "stderr",
     "output_type": "stream",
     "text": [
      "INFO:adobe.pdfservices.operation.internal.pdf_services_helper:Started uploading asset\n",
      "INFO:adobe.pdfservices.operation.internal.pdf_services_helper:Finished uploading asset\n",
      "INFO:adobe.pdfservices.operation.internal.pdf_services_helper:Started submitting EXTRACT_PDF job\n",
      "INFO:adobe.pdfservices.operation.internal.pdf_services_helper:Started getting job result\n",
      "INFO:adobe.pdfservices.operation.internal.pdf_services_helper:Finished polling for status\n",
      "INFO:adobe.pdfservices.operation.internal.pdf_services_helper:Finished getting job result\n",
      "INFO:adobe.pdfservices.operation.internal.pdf_services_helper:Started getting content\n",
      "INFO:adobe.pdfservices.operation.internal.pdf_services_helper:Finished getting content\n"
     ]
    },
    {
     "name": "stdout",
     "output_type": "stream",
     "text": [
      "Veiligheid \n"
     ]
    }
   ],
   "source": [
    "import io\n",
    "import json\n",
    "import logging\n",
    "import zipfile\n",
    "\n",
    "from adobe.pdfservices.operation.auth.service_principal_credentials import ServicePrincipalCredentials\n",
    "from adobe.pdfservices.operation.exception.exceptions import SdkException, ServiceApiException, ServiceUsageException\n",
    "from adobe.pdfservices.operation.pdf_services import PDFServices\n",
    "from adobe.pdfservices.operation.pdf_services_media_type import PDFServicesMediaType\n",
    "from adobe.pdfservices.operation.pdfjobs.jobs.extract_pdf_job import ExtractPDFJob\n",
    "from adobe.pdfservices.operation.pdfjobs.params.extract_pdf.extract_element_type import ExtractElementType\n",
    "from adobe.pdfservices.operation.pdfjobs.params.extract_pdf.extract_pdf_params import ExtractPDFParams\n",
    "from adobe.pdfservices.operation.pdfjobs.params.extract_pdf.extract_renditions_element_type import (\n",
    "    ExtractRenditionsElementType,\n",
    ")\n",
    "from adobe.pdfservices.operation.pdfjobs.result.extract_pdf_result import ExtractPDFResult\n",
    "from adobe.pdfservices.operation.io.cloud_asset import CloudAsset\n",
    "from adobe.pdfservices.operation.io.stream_asset import StreamAsset\n",
    "\n",
    "def load_pdf_service_credentials() -> dict:\n",
    "    with open(\"pdfservices-api-credentials.json\") as cred_file:\n",
    "        data = json.load(cred_file)\n",
    "    return data[\"client_credentials\"]\n",
    "\n",
    "try:\n",
    "    # Open en lees het input PDF-bestand\n",
    "    with open(\"./experiments/tmp/files/loopdraaistelsel.pdf\", \"rb\") as file:\n",
    "        input_stream = file.read()\n",
    "\n",
    "    # Lees de credentials uit het JSON bestand\n",
    "    creds = load_pdf_service_credentials()\n",
    "    credentials = ServicePrincipalCredentials(\n",
    "        client_id=creds[\"client_id\"],\n",
    "        client_secret=creds[\"client_secret\"]\n",
    "    )\n",
    "\n",
    "    # Maak een instantie van de PDF Services\n",
    "    pdf_services = PDFServices(credentials=credentials)\n",
    "\n",
    "    # Upload het bronbestand als een asset\n",
    "    input_asset = pdf_services.upload(\n",
    "        input_stream=input_stream,\n",
    "        mime_type=PDFServicesMediaType.PDF\n",
    "    )\n",
    "\n",
    "    # Stel de parameters in voor de extractie\n",
    "    extract_pdf_params = ExtractPDFParams(\n",
    "        elements_to_extract=[\n",
    "            ExtractElementType.TEXT,\n",
    "            ExtractElementType.TABLES,\n",
    "        ],\n",
    "        elements_to_extract_renditions=[ExtractRenditionsElementType.FIGURES],\n",
    "    )\n",
    "\n",
    "    # Maak en verstuur de extractiejob\n",
    "    extract_pdf_job = ExtractPDFJob(\n",
    "        input_asset=input_asset,\n",
    "        extract_pdf_params=extract_pdf_params\n",
    "    )\n",
    "    location = pdf_services.submit(extract_pdf_job)\n",
    "    pdf_services_response = pdf_services.get_job_result(location, ExtractPDFResult)\n",
    "\n",
    "    result_asset: CloudAsset = pdf_services_response.get_result().get_resource()\n",
    "    stream_asset: StreamAsset = pdf_services.get_content(result_asset)\n",
    "\n",
    "\n",
    "    # Get the zip content\n",
    "    zip_content = stream_asset.get_input_stream()\n",
    "\n",
    "    # Create a ZipFile object from the content\n",
    "    with zipfile.ZipFile(io.BytesIO(zip_content)) as zf:\n",
    "        # The extracted data is typically in a file named 'structuredData.json'\n",
    "        json_data = json.loads(zf.read('structuredData.json'))\n",
    "\n",
    "        # Now you can process the elements\n",
    "        for element in json_data[\"elements\"]:\n",
    "            if element[\"Path\"].endswith(\"/H1\"):\n",
    "                print(element[\"Text\"])\n",
    "\n",
    "except (ServiceApiException, ServiceUsageException, SdkException) as e:\n",
    "    logging.exception(f\"Er is een fout opgetreden tijdens de uitvoering: {e}\")"
   ]
  },
  {
   "cell_type": "code",
   "execution_count": null,
   "metadata": {},
   "outputs": [],
   "source": []
  }
 ],
 "metadata": {
  "kernelspec": {
   "display_name": ".venv",
   "language": "python",
   "name": "python3"
  },
  "language_info": {
   "codemirror_mode": {
    "name": "ipython",
    "version": 3
   },
   "file_extension": ".py",
   "mimetype": "text/x-python",
   "name": "python",
   "nbconvert_exporter": "python",
   "pygments_lexer": "ipython3",
   "version": "3.13.0"
  }
 },
 "nbformat": 4,
 "nbformat_minor": 2
}
